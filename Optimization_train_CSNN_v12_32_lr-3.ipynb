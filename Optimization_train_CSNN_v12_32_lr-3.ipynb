{
  "nbformat": 4,
  "nbformat_minor": 0,
  "metadata": {
    "colab": {
      "provenance": [],
      "machine_shape": "hm",
      "gpuType": "T4"
    },
    "kernelspec": {
      "name": "python3",
      "display_name": "Python 3"
    },
    "language_info": {
      "name": "python"
    },
    "accelerator": "GPU"
  },
  "cells": [
    {
      "cell_type": "markdown",
      "source": [
        "# Optimización código de construcción y entrenamiento de la CSNN con arquitectura PilotNet"
      ],
      "metadata": {
        "id": "vLnrsQLMrYin"
      }
    },
    {
      "cell_type": "code",
      "source": [
        "# Montar Google Drive\n",
        "from google.colab import drive\n",
        "drive.mount('/content/drive')"
      ],
      "metadata": {
        "colab": {
          "base_uri": "https://localhost:8080/"
        },
        "id": "DgD3AuJYVVEu",
        "outputId": "69ef0031-ca6d-4891-8b21-05af4af2d365"
      },
      "execution_count": 1,
      "outputs": [
        {
          "output_type": "stream",
          "name": "stdout",
          "text": [
            "Mounted at /content/drive\n"
          ]
        }
      ]
    },
    {
      "cell_type": "code",
      "source": [
        "# Instalación de paquetes necesarios\n",
        "!pip install torch snntorch codecarbon tqdm"
      ],
      "metadata": {
        "colab": {
          "base_uri": "https://localhost:8080/"
        },
        "id": "gLAEBTqgVYgI",
        "outputId": "461d772e-2349-43c7-e857-03ea333bf935"
      },
      "execution_count": 2,
      "outputs": [
        {
          "output_type": "stream",
          "name": "stdout",
          "text": [
            "Requirement already satisfied: torch in /usr/local/lib/python3.10/dist-packages (2.3.0+cu121)\n",
            "Collecting snntorch\n",
            "  Downloading snntorch-0.9.1-py2.py3-none-any.whl (125 kB)\n",
            "\u001b[2K     \u001b[90m━━━━━━━━━━━━━━━━━━━━━━━━━━━━━━━━━━━━━━━━\u001b[0m \u001b[32m125.3/125.3 kB\u001b[0m \u001b[31m3.6 MB/s\u001b[0m eta \u001b[36m0:00:00\u001b[0m\n",
            "\u001b[?25hCollecting codecarbon\n",
            "  Downloading codecarbon-2.4.2-py3-none-any.whl (494 kB)\n",
            "\u001b[2K     \u001b[90m━━━━━━━━━━━━━━━━━━━━━━━━━━━━━━━━━━━━━━━━\u001b[0m \u001b[32m494.9/494.9 kB\u001b[0m \u001b[31m27.6 MB/s\u001b[0m eta \u001b[36m0:00:00\u001b[0m\n",
            "\u001b[?25hRequirement already satisfied: tqdm in /usr/local/lib/python3.10/dist-packages (4.66.4)\n",
            "Requirement already satisfied: filelock in /usr/local/lib/python3.10/dist-packages (from torch) (3.14.0)\n",
            "Requirement already satisfied: typing-extensions>=4.8.0 in /usr/local/lib/python3.10/dist-packages (from torch) (4.12.2)\n",
            "Requirement already satisfied: sympy in /usr/local/lib/python3.10/dist-packages (from torch) (1.12.1)\n",
            "Requirement already satisfied: networkx in /usr/local/lib/python3.10/dist-packages (from torch) (3.3)\n",
            "Requirement already satisfied: jinja2 in /usr/local/lib/python3.10/dist-packages (from torch) (3.1.4)\n",
            "Requirement already satisfied: fsspec in /usr/local/lib/python3.10/dist-packages (from torch) (2023.6.0)\n",
            "Collecting nvidia-cuda-nvrtc-cu12==12.1.105 (from torch)\n",
            "  Using cached nvidia_cuda_nvrtc_cu12-12.1.105-py3-none-manylinux1_x86_64.whl (23.7 MB)\n",
            "Collecting nvidia-cuda-runtime-cu12==12.1.105 (from torch)\n",
            "  Using cached nvidia_cuda_runtime_cu12-12.1.105-py3-none-manylinux1_x86_64.whl (823 kB)\n",
            "Collecting nvidia-cuda-cupti-cu12==12.1.105 (from torch)\n",
            "  Using cached nvidia_cuda_cupti_cu12-12.1.105-py3-none-manylinux1_x86_64.whl (14.1 MB)\n",
            "Collecting nvidia-cudnn-cu12==8.9.2.26 (from torch)\n",
            "  Using cached nvidia_cudnn_cu12-8.9.2.26-py3-none-manylinux1_x86_64.whl (731.7 MB)\n",
            "Collecting nvidia-cublas-cu12==12.1.3.1 (from torch)\n",
            "  Using cached nvidia_cublas_cu12-12.1.3.1-py3-none-manylinux1_x86_64.whl (410.6 MB)\n",
            "Collecting nvidia-cufft-cu12==11.0.2.54 (from torch)\n",
            "  Using cached nvidia_cufft_cu12-11.0.2.54-py3-none-manylinux1_x86_64.whl (121.6 MB)\n",
            "Collecting nvidia-curand-cu12==10.3.2.106 (from torch)\n",
            "  Using cached nvidia_curand_cu12-10.3.2.106-py3-none-manylinux1_x86_64.whl (56.5 MB)\n",
            "Collecting nvidia-cusolver-cu12==11.4.5.107 (from torch)\n",
            "  Using cached nvidia_cusolver_cu12-11.4.5.107-py3-none-manylinux1_x86_64.whl (124.2 MB)\n",
            "Collecting nvidia-cusparse-cu12==12.1.0.106 (from torch)\n",
            "  Using cached nvidia_cusparse_cu12-12.1.0.106-py3-none-manylinux1_x86_64.whl (196.0 MB)\n",
            "Collecting nvidia-nccl-cu12==2.20.5 (from torch)\n",
            "  Using cached nvidia_nccl_cu12-2.20.5-py3-none-manylinux2014_x86_64.whl (176.2 MB)\n",
            "Collecting nvidia-nvtx-cu12==12.1.105 (from torch)\n",
            "  Using cached nvidia_nvtx_cu12-12.1.105-py3-none-manylinux1_x86_64.whl (99 kB)\n",
            "Requirement already satisfied: triton==2.3.0 in /usr/local/lib/python3.10/dist-packages (from torch) (2.3.0)\n",
            "Collecting nvidia-nvjitlink-cu12 (from nvidia-cusolver-cu12==11.4.5.107->torch)\n",
            "  Downloading nvidia_nvjitlink_cu12-12.5.40-py3-none-manylinux2014_x86_64.whl (21.3 MB)\n",
            "\u001b[2K     \u001b[90m━━━━━━━━━━━━━━━━━━━━━━━━━━━━━━━━━━━━━━━━\u001b[0m \u001b[32m21.3/21.3 MB\u001b[0m \u001b[31m73.8 MB/s\u001b[0m eta \u001b[36m0:00:00\u001b[0m\n",
            "\u001b[?25hRequirement already satisfied: pandas in /usr/local/lib/python3.10/dist-packages (from snntorch) (2.0.3)\n",
            "Requirement already satisfied: matplotlib in /usr/local/lib/python3.10/dist-packages (from snntorch) (3.7.1)\n",
            "Requirement already satisfied: numpy>=1.17 in /usr/local/lib/python3.10/dist-packages (from snntorch) (1.25.2)\n",
            "Collecting nir (from snntorch)\n",
            "  Downloading nir-1.0.4-py3-none-any.whl (18 kB)\n",
            "Collecting nirtorch (from snntorch)\n",
            "  Downloading nirtorch-1.0-py3-none-any.whl (13 kB)\n",
            "Collecting arrow (from codecarbon)\n",
            "  Downloading arrow-1.3.0-py3-none-any.whl (66 kB)\n",
            "\u001b[2K     \u001b[90m━━━━━━━━━━━━━━━━━━━━━━━━━━━━━━━━━━━━━━━━\u001b[0m \u001b[32m66.4/66.4 kB\u001b[0m \u001b[31m7.1 MB/s\u001b[0m eta \u001b[36m0:00:00\u001b[0m\n",
            "\u001b[?25hRequirement already satisfied: click in /usr/local/lib/python3.10/dist-packages (from codecarbon) (8.1.7)\n",
            "Requirement already satisfied: prometheus-client in /usr/local/lib/python3.10/dist-packages (from codecarbon) (0.20.0)\n",
            "Requirement already satisfied: psutil in /usr/local/lib/python3.10/dist-packages (from codecarbon) (5.9.5)\n",
            "Requirement already satisfied: py-cpuinfo in /usr/local/lib/python3.10/dist-packages (from codecarbon) (9.0.0)\n",
            "Collecting pynvml (from codecarbon)\n",
            "  Downloading pynvml-11.5.0-py3-none-any.whl (53 kB)\n",
            "\u001b[2K     \u001b[90m━━━━━━━━━━━━━━━━━━━━━━━━━━━━━━━━━━━━━━━━\u001b[0m \u001b[32m53.1/53.1 kB\u001b[0m \u001b[31m7.7 MB/s\u001b[0m eta \u001b[36m0:00:00\u001b[0m\n",
            "\u001b[?25hCollecting rapidfuzz (from codecarbon)\n",
            "  Downloading rapidfuzz-3.9.3-cp310-cp310-manylinux_2_17_x86_64.manylinux2014_x86_64.whl (3.4 MB)\n",
            "\u001b[2K     \u001b[90m━━━━━━━━━━━━━━━━━━━━━━━━━━━━━━━━━━━━━━━━\u001b[0m \u001b[32m3.4/3.4 MB\u001b[0m \u001b[31m103.6 MB/s\u001b[0m eta \u001b[36m0:00:00\u001b[0m\n",
            "\u001b[?25hRequirement already satisfied: requests in /usr/local/lib/python3.10/dist-packages (from codecarbon) (2.31.0)\n",
            "Requirement already satisfied: python-dateutil>=2.7.0 in /usr/local/lib/python3.10/dist-packages (from arrow->codecarbon) (2.8.2)\n",
            "Collecting types-python-dateutil>=2.8.10 (from arrow->codecarbon)\n",
            "  Downloading types_python_dateutil-2.9.0.20240316-py3-none-any.whl (9.7 kB)\n",
            "Requirement already satisfied: MarkupSafe>=2.0 in /usr/local/lib/python3.10/dist-packages (from jinja2->torch) (2.1.5)\n",
            "Requirement already satisfied: contourpy>=1.0.1 in /usr/local/lib/python3.10/dist-packages (from matplotlib->snntorch) (1.2.1)\n",
            "Requirement already satisfied: cycler>=0.10 in /usr/local/lib/python3.10/dist-packages (from matplotlib->snntorch) (0.12.1)\n",
            "Requirement already satisfied: fonttools>=4.22.0 in /usr/local/lib/python3.10/dist-packages (from matplotlib->snntorch) (4.53.0)\n",
            "Requirement already satisfied: kiwisolver>=1.0.1 in /usr/local/lib/python3.10/dist-packages (from matplotlib->snntorch) (1.4.5)\n",
            "Requirement already satisfied: packaging>=20.0 in /usr/local/lib/python3.10/dist-packages (from matplotlib->snntorch) (24.1)\n",
            "Requirement already satisfied: pillow>=6.2.0 in /usr/local/lib/python3.10/dist-packages (from matplotlib->snntorch) (9.4.0)\n",
            "Requirement already satisfied: pyparsing>=2.3.1 in /usr/local/lib/python3.10/dist-packages (from matplotlib->snntorch) (3.1.2)\n",
            "Requirement already satisfied: h5py in /usr/local/lib/python3.10/dist-packages (from nir->snntorch) (3.9.0)\n",
            "Requirement already satisfied: pytz>=2020.1 in /usr/local/lib/python3.10/dist-packages (from pandas->snntorch) (2023.4)\n",
            "Requirement already satisfied: tzdata>=2022.1 in /usr/local/lib/python3.10/dist-packages (from pandas->snntorch) (2024.1)\n",
            "Requirement already satisfied: charset-normalizer<4,>=2 in /usr/local/lib/python3.10/dist-packages (from requests->codecarbon) (3.3.2)\n",
            "Requirement already satisfied: idna<4,>=2.5 in /usr/local/lib/python3.10/dist-packages (from requests->codecarbon) (3.7)\n",
            "Requirement already satisfied: urllib3<3,>=1.21.1 in /usr/local/lib/python3.10/dist-packages (from requests->codecarbon) (2.0.7)\n",
            "Requirement already satisfied: certifi>=2017.4.17 in /usr/local/lib/python3.10/dist-packages (from requests->codecarbon) (2024.6.2)\n",
            "Requirement already satisfied: mpmath<1.4.0,>=1.1.0 in /usr/local/lib/python3.10/dist-packages (from sympy->torch) (1.3.0)\n",
            "Requirement already satisfied: six>=1.5 in /usr/local/lib/python3.10/dist-packages (from python-dateutil>=2.7.0->arrow->codecarbon) (1.16.0)\n",
            "Installing collected packages: types-python-dateutil, rapidfuzz, pynvml, nvidia-nvtx-cu12, nvidia-nvjitlink-cu12, nvidia-nccl-cu12, nvidia-curand-cu12, nvidia-cufft-cu12, nvidia-cuda-runtime-cu12, nvidia-cuda-nvrtc-cu12, nvidia-cuda-cupti-cu12, nvidia-cublas-cu12, nvidia-cusparse-cu12, nvidia-cudnn-cu12, nir, arrow, nvidia-cusolver-cu12, codecarbon, nirtorch, snntorch\n",
            "Successfully installed arrow-1.3.0 codecarbon-2.4.2 nir-1.0.4 nirtorch-1.0 nvidia-cublas-cu12-12.1.3.1 nvidia-cuda-cupti-cu12-12.1.105 nvidia-cuda-nvrtc-cu12-12.1.105 nvidia-cuda-runtime-cu12-12.1.105 nvidia-cudnn-cu12-8.9.2.26 nvidia-cufft-cu12-11.0.2.54 nvidia-curand-cu12-10.3.2.106 nvidia-cusolver-cu12-11.4.5.107 nvidia-cusparse-cu12-12.1.0.106 nvidia-nccl-cu12-2.20.5 nvidia-nvjitlink-cu12-12.5.40 nvidia-nvtx-cu12-12.1.105 pynvml-11.5.0 rapidfuzz-3.9.3 snntorch-0.9.1 types-python-dateutil-2.9.0.20240316\n"
          ]
        }
      ]
    },
    {
      "cell_type": "code",
      "source": [
        "# Importar librerías\n",
        "import cv2\n",
        "import h5py\n",
        "import matplotlib.pyplot as plt\n",
        "import numpy as np\n",
        "import os\n",
        "import pandas as pd\n",
        "import snntorch as snn\n",
        "import torch\n",
        "import torch.nn as nn\n",
        "import torch.optim as optim\n",
        "from codecarbon import EmissionsTracker\n",
        "from sklearn.model_selection import train_test_split\n",
        "from sklearn.utils import shuffle\n",
        "from snntorch import surrogate\n",
        "from snntorch import functional as SF\n",
        "from torch.utils.data import Dataset, DataLoader, TensorDataset\n",
        "from torch.utils.tensorboard import SummaryWriter\n",
        "from datetime import datetime\n",
        "from tqdm import tqdm"
      ],
      "metadata": {
        "id": "014VpbOTVcaG"
      },
      "execution_count": 8,
      "outputs": []
    },
    {
      "cell_type": "code",
      "source": [
        "# Habilitar la detección de anomalías\n",
        "torch.autograd.set_detect_anomaly(True)\n",
        "\n",
        "# Sección de Hiperparámetros\n",
        "class Config:\n",
        "    batch_size = 32\n",
        "    learning_rate = 0.001\n",
        "    num_epochs = 50\n",
        "    beta = 0.9  # Parámetro de decaimiento para las capas LIF\n",
        "    patience = 10  # Parámetro de paciencia para EarlyStopping\n",
        "    min_delta = 0.001  # Parámetro de cambio mínimo para EarlyStopping\n",
        "\n",
        "# Definir EarlyStopping\n",
        "class EarlyStopping:\n",
        "    def __init__(self, patience=Config.patience, min_delta=Config.min_delta):\n",
        "        self.patience = patience\n",
        "        self.min_delta = min_delta\n",
        "        self.counter = 0\n",
        "        self.best_loss = None\n",
        "        self.early_stop = False\n",
        "\n",
        "    def __call__(self, val_loss):\n",
        "        if self.best_loss is None:\n",
        "            self.best_loss = val_loss\n",
        "        elif val_loss < self.best_loss - self.min_delta:\n",
        "            self.best_loss = val_loss\n",
        "            self.counter = 0\n",
        "        elif val_loss >= self.best_loss - self.min_delta:\n",
        "            self.counter += 1\n",
        "            if self.counter >= self.patience:\n",
        "                self.early_stop = True\n",
        "\n",
        "# Función para cargar datos desde HDF5\n",
        "def load_hdf5(file_name):\n",
        "    with h5py.File(file_name, 'r') as f:\n",
        "        delta_images = torch.tensor(f['delta_images'][:])\n",
        "        angles = torch.tensor(f['angles'][:])\n",
        "    return delta_images, angles\n",
        "\n",
        "# Función para guardar datos en HDF5\n",
        "def save_to_hdf5(delta_images, angles, file_name):\n",
        "    with h5py.File(file_name, 'w') as f:\n",
        "        f.create_dataset('delta_images', data=delta_images.cpu().numpy(), compression=\"gzip\")\n",
        "        f.create_dataset('angles', data=angles.cpu().numpy(), compression=\"gzip\")\n",
        "\n",
        "current_time = datetime.now().strftime('%Y%m%d_%H%M%S')\n",
        "\n",
        "# Cargar datos de entrenamiento y validación desde HDF5\n",
        "training_delta_images, training_angles = load_hdf5('/content/drive/MyDrive/UOC/TFM/Spike Encoding/Version_10/training_data_pairs_20240618_053500.hdf5')\n",
        "validation_delta_images, validation_angles = load_hdf5('/content/drive/MyDrive/UOC/TFM/Spike Encoding/Version_10/validation_data_pairs_20240618_053500.hdf5')\n",
        "\n",
        "# Añadir una dimensión de canal a las imágenes\n",
        "training_delta_images = training_delta_images.unsqueeze(1)  # Añadir canal de entrada\n",
        "validation_delta_images = validation_delta_images.unsqueeze(1)  # Añadir canal de entrada\n",
        "\n",
        "# Guardar los datos ajustados en nuevos archivos HDF5\n",
        "save_to_hdf5(training_delta_images, training_angles, 'adjusted_training_data.hdf5')\n",
        "save_to_hdf5(validation_delta_images, validation_angles, 'adjusted_validation_data.hdf5')\n",
        "\n",
        "print(f\"Total de pares de datos codificados y ajustados en entrenamiento: {training_delta_images.shape[0]}\")\n",
        "print(f\"Total de pares de datos codificados y ajustados en validación: {validation_delta_images.shape[0]}\")\n",
        "\n",
        "# Mostrar la primera posición de training_delta_images y training_angles\n",
        "print(\"Primera imagen codificada en impulsos (training_delta_images[0]):\", training_delta_images[0])\n",
        "print(\"Ángulo asociado (training_angles[0]):\", training_angles[0])\n",
        "# Imprimir en un plot training_delta_images[0]\n",
        "first_image = training_delta_images[0].squeeze(0)  # Eliminar la dimensión del canal para la visualización\n",
        "\n",
        "plt.figure(figsize=(10, 5))\n",
        "plt.imshow(first_image, cmap='gray')\n",
        "plt.colorbar()\n",
        "plt.show()\n",
        "\n",
        "# Definir la arquitectura CSNN basada en PilotNet con 21 salidas\n",
        "class CSNNPilotNet(nn.Module):\n",
        "    def __init__(self):\n",
        "        super(CSNNPilotNet, self).__init__()\n",
        "        self.conv1 = nn.Conv2d(1, 24, kernel_size=5, stride=2)\n",
        "        self.conv2 = nn.Conv2d(24, 36, kernel_size=5, stride=2)\n",
        "        self.conv3 = nn.Conv2d(36, 48, kernel_size=5, stride=2)\n",
        "        self.conv4 = nn.Conv2d(48, 64, kernel_size=3)\n",
        "\n",
        "        self.lif1 = snn.Leaky(beta=Config.beta, spike_grad=surrogate.fast_sigmoid())\n",
        "        self.lif2 = snn.Leaky(beta=Config.beta, spike_grad=surrogate.fast_sigmoid())\n",
        "        self.lif3 = snn.Leaky(beta=Config.beta, spike_grad=surrogate.fast_sigmoid())\n",
        "        self.lif4 = snn.Leaky(beta=Config.beta, spike_grad=surrogate.fast_sigmoid())\n",
        "\n",
        "        self.fc1 = nn.Linear(self._get_conv_output((1, 1, 50, 160)), 100)\n",
        "        self.fc2 = nn.Linear(100, 50)\n",
        "        self.fc3 = nn.Linear(50, 10)\n",
        "        self.fc4 = nn.Linear(10, 21)\n",
        "\n",
        "    def _get_conv_output(self, shape):\n",
        "        with torch.no_grad():\n",
        "            input = torch.randn(*shape)\n",
        "            output = self.conv1(input)\n",
        "            output, _ = self.lif1(output, self.lif1.init_leaky())\n",
        "            output = self.conv2(output)\n",
        "            output, _ = self.lif2(output, self.lif2.init_leaky())\n",
        "            output = self.conv3(output)\n",
        "            output, _ = self.lif3(output, self.lif3.init_leaky())\n",
        "            output = self.conv4(output)\n",
        "            output, _ = self.lif4(output, self.lif4.init_leaky())\n",
        "            output = output.view(output.size(0), -1)\n",
        "            n_size = output.size(1)\n",
        "        return n_size\n",
        "\n",
        "    def forward(self, x, mem1, mem2, mem3, mem4):\n",
        "        x = self.conv1(x)\n",
        "        x, mem1 = self.lif1(x, mem1)\n",
        "        x = self.conv2(x)\n",
        "        x, mem2 = self.lif2(x, mem2)\n",
        "        x = self.conv3(x)\n",
        "        x, mem3 = self.lif3(x, mem3)\n",
        "        x = self.conv4(x)\n",
        "        x, mem4 = self.lif4(x, mem4)\n",
        "\n",
        "        x = x.view(x.size(0), -1)\n",
        "        x = self.fc1(x)\n",
        "        x = self.fc2(x)\n",
        "        x = self.fc3(x)\n",
        "        x = self.fc4(x)\n",
        "        return x, mem1, mem2, mem3, mem4\n",
        "\n",
        "# Función para guardar la salida en un archivo\n",
        "def save_epoch_output(epoch, train_loss, train_accuracy, valid_loss, valid_accuracy):\n",
        "    with open('/content/drive/MyDrive/UOC/TFM/Spike Encoding/training_output.txt', 'a') as f:\n",
        "        f.write(f\"Epoch [{epoch+1}], Train Loss: {train_loss:.4f}, Train Accuracy: {train_accuracy:.4f}, Valid Loss: {valid_loss:.4f}, Valid Accuracy: {valid_accuracy:.4f}\\n\")\n",
        "\n",
        "# Inicializar el modelo\n",
        "device = 'cuda' if torch.cuda.is_available() else 'cpu'\n",
        "model = CSNNPilotNet().to(device)\n",
        "\n",
        "# Inicializar las capas ocultas de la red\n",
        "def init_weights(m):\n",
        "    if isinstance(m, nn.Conv2d) or isinstance(m, nn.Linear):\n",
        "        nn.init.kaiming_normal_(m.weight)\n",
        "        if m.bias is not None:\n",
        "            nn.init.constant_(m.bias, 0)\n",
        "\n",
        "model.apply(init_weights)\n",
        "\n",
        "# Crear DataLoaders para entrenamiento y validación\n",
        "train_dataset = TensorDataset(training_delta_images, training_angles)\n",
        "valid_dataset = TensorDataset(validation_delta_images, validation_angles)\n",
        "\n",
        "train_loader = DataLoader(train_dataset, batch_size=Config.batch_size, shuffle=True)\n",
        "valid_loader = DataLoader(valid_dataset, batch_size=Config.batch_size, shuffle=False)\n",
        "\n",
        "# Definir el optimizador y la función de pérdida\n",
        "optimizer = optim.Adam(model.parameters(), lr=Config.learning_rate)\n",
        "criterion = nn.CrossEntropyLoss()\n",
        "\n",
        "# Inicializar EarlyStopping\n",
        "early_stopping = EarlyStopping(patience=Config.patience, min_delta=Config.min_delta)\n",
        "\n",
        "# Iniciar el tracker de CodeCarbon\n",
        "tracker = EmissionsTracker(output_dir='/content/drive/MyDrive/UOC/TFM/EcoEfficiency_Reports/', project_name=f\"emissions_train_{current_time}.csv\")\n",
        "tracker.start()\n",
        "\n",
        "# Configuración de TensorBoard\n",
        "log_dir = f\"runs/CSNN_PilotNet_{datetime.now().strftime('%Y%m%d-%H%M%S')}\"\n",
        "writer = SummaryWriter(log_dir)\n",
        "\n",
        "# Función para calcular la precisión\n",
        "def calculate_accuracy(output, target):\n",
        "    _, predicted = torch.max(output, 1)\n",
        "    correct = (predicted == target).sum().item()\n",
        "    return correct / len(target)\n",
        "\n",
        "# Ciclo de entrenamiento\n",
        "train_losses = []\n",
        "valid_losses = []\n",
        "train_accuracies = []\n",
        "valid_accuracies = []\n",
        "\n",
        "best_valid_loss = float('inf')\n",
        "best_model_wts = None\n",
        "\n",
        "for epoch in range(Config.num_epochs):\n",
        "    model.train()\n",
        "    train_loss = 0.0\n",
        "    train_correct = 0\n",
        "    total_train = 0\n",
        "\n",
        "    with tqdm(total=len(train_loader), desc=f\"Epoch {epoch+1}/{Config.num_epochs}\", unit=\"batch\") as pbar:\n",
        "        for i, (delta_images, angles) in enumerate(train_loader):\n",
        "            if isinstance(delta_images, tuple):\n",
        "                delta_images = delta_images[0]\n",
        "            if isinstance(angles, tuple):\n",
        "                angles = angles[0]\n",
        "\n",
        "            delta_images, angles = delta_images.to(device), angles.to(device)\n",
        "\n",
        "            optimizer.zero_grad()\n",
        "\n",
        "            mem1 = model.lif1.init_leaky()\n",
        "            mem2 = model.lif2.init_leaky()\n",
        "            mem3 = model.lif3.init_leaky()\n",
        "            mem4 = model.lif4.init_leaky()\n",
        "\n",
        "            outputs, mem1, mem2, mem3, mem4 = model(delta_images, mem1, mem2, mem3, mem4)\n",
        "\n",
        "            angles = angles.argmax(dim=1).long()  # Convertir ángulos a clases\n",
        "\n",
        "            loss = criterion(outputs, angles)\n",
        "            loss.backward()\n",
        "            optimizer.step()\n",
        "            train_loss += loss.item()\n",
        "\n",
        "            train_correct += calculate_accuracy(outputs, angles) * len(delta_images)\n",
        "            total_train += len(delta_images)\n",
        "\n",
        "            pbar.update(1)\n",
        "\n",
        "    train_losses.append(train_loss / len(train_loader))\n",
        "    train_accuracies.append(train_correct / total_train)\n",
        "\n",
        "    model.eval()\n",
        "    valid_loss = 0.0\n",
        "    valid_correct = 0\n",
        "    total_valid = 0\n",
        "\n",
        "    with torch.no_grad():\n",
        "        with tqdm(total=len(valid_loader), desc=f\"Validation {epoch+1}/{Config.num_epochs}\", unit=\"batch\") as pbar:\n",
        "            for delta_images, angles in valid_loader:\n",
        "                if isinstance(delta_images, tuple):\n",
        "                    delta_images = delta_images[0]\n",
        "                if isinstance(angles, tuple):\n",
        "                    angles = angles[0]\n",
        "\n",
        "                delta_images, angles = delta_images.to(device), angles.to(device)\n",
        "\n",
        "                angles = angles.argmax(dim=1).long()  # Convertir ángulos a clases\n",
        "\n",
        "                mem1 = model.lif1.init_leaky()\n",
        "                mem2 = model.lif2.init_leaky()\n",
        "                mem3 = model.lif3.init_leaky()\n",
        "                mem4 = model.lif4.init_leaky()\n",
        "\n",
        "                outputs, mem1, mem2, mem3, mem4 = model(delta_images, mem1, mem2, mem3, mem4)\n",
        "                loss = criterion(outputs, angles)\n",
        "                valid_loss += loss.item()\n",
        "\n",
        "                valid_correct += calculate_accuracy(outputs, angles) * len(delta_images)\n",
        "                total_valid += len(delta_images)\n",
        "\n",
        "                pbar.update(1)\n",
        "\n",
        "    valid_losses.append(valid_loss / len(valid_loader))\n",
        "    valid_accuracies.append(valid_correct / total_valid)\n",
        "\n",
        "    print(f\"Epoch [{epoch+1}/{Config.num_epochs}], Train Loss: {train_loss/len(train_loader):.4f}, Train Accuracy: {train_correct/total_train:.4f}, Valid Loss: {valid_loss/len(valid_loader):.4f}, Valid Accuracy: {valid_correct/total_valid:.4f}\")\n",
        "\n",
        "    # Guardar la salida de la época en un archivo\n",
        "    save_epoch_output(epoch, train_loss/len(train_loader), train_correct/total_train, valid_loss/len(valid_loader), valid_correct/total_valid)\n",
        "\n",
        "    # Escribir en TensorBoard\n",
        "    writer.add_scalar('Loss/Train', train_loss/len(train_loader), epoch)\n",
        "    writer.add_scalar('Loss/Valid', valid_loss/len(valid_loader), epoch)\n",
        "    writer.add_scalar('Accuracy/Train', train_correct/total_train, epoch)\n",
        "    writer.add_scalar('Accuracy/Valid', valid_correct/total_valid, epoch)\n",
        "\n",
        "    if valid_loss / len(valid_loader) < best_valid_loss:\n",
        "        best_valid_loss = valid_loss / len(valid_loader)\n",
        "        best_model_wts = model.state_dict()\n",
        "\n",
        "    early_stopping(valid_loss / len(valid_loader))\n",
        "    if early_stopping.early_stop:\n",
        "        print(f\"Early stopping en la época {epoch+1}\")\n",
        "        break\n",
        "\n",
        "model.load_state_dict(best_model_wts)\n",
        "torch.save(model.state_dict(), f'/content/drive/MyDrive/UOC/TFM/Models/Version_12/best_model_{current_time}.pth')\n",
        "\n",
        "tracker.stop()\n",
        "\n",
        "print(f\"Mejor pérdida de validación: {best_valid_loss:.4f}\")\n",
        "\n",
        "plt.figure(figsize=(10, 5))\n",
        "plt.plot(train_losses, label='Training Loss')\n",
        "plt.plot(valid_losses, label='Validation Loss')\n",
        "plt.xlabel('Epochs')\n",
        "plt.ylabel('Loss')\n",
        "plt.title('Training and Validation Loss')\n",
        "plt.legend()\n",
        "plt.grid(True)\n",
        "plt.show()\n",
        "\n",
        "plt.figure(figsize=(10, 5))\n",
        "plt.plot(train_accuracies, label='Training Accuracy')\n",
        "plt.plot(valid_accuracies, label='Validation Accuracy')\n",
        "plt.xlabel('Epochs')\n",
        "plt.ylabel('Accuracy')\n",
        "plt.title('Training and Validation Accuracy')\n",
        "plt.legend()\n",
        "plt.grid(True)\n",
        "plt.show()\n",
        "\n",
        "# Cerrar el escritor de TensorBoard\n",
        "writer.close()\n"
      ],
      "metadata": {
        "colab": {
          "base_uri": "https://localhost:8080/",
          "height": 1000
        },
        "id": "IOJE5t_X5uKH",
        "outputId": "8880fcc2-4c30-4232-a792-cdf55e7ea9a8"
      },
      "execution_count": 10,
      "outputs": [
        {
          "output_type": "stream",
          "name": "stderr",
          "text": [
            "[codecarbon INFO @ 07:10:17] Energy consumed for RAM : 0.018396 kWh. RAM Power : 19.1226167678833 W\n",
            "[codecarbon INFO @ 07:10:17] Energy consumed for all GPUs : 0.027533 kWh. Total GPU Power : 28.431298228838592 W\n",
            "[codecarbon INFO @ 07:10:17] Energy consumed for all CPUs : 0.040901 kWh. Total CPU Power : 42.5 W\n",
            "[codecarbon INFO @ 07:10:17] 0.086830 kWh of electricity used since the beginning.\n"
          ]
        },
        {
          "output_type": "stream",
          "name": "stdout",
          "text": [
            "Total de pares de datos codificados y ajustados en entrenamiento: 22075\n",
            "Total de pares de datos codificados y ajustados en validación: 5519\n",
            "Primera imagen codificada en impulsos (training_delta_images[0]): tensor([[[1., 1., 1.,  ..., 1., 0., 0.],\n",
            "         [1., 1., 1.,  ..., 1., 1., 1.],\n",
            "         [1., 1., 1.,  ..., 1., 1., 1.],\n",
            "         ...,\n",
            "         [1., 1., 1.,  ..., 1., 1., 1.],\n",
            "         [1., 1., 1.,  ..., 1., 1., 1.],\n",
            "         [1., 1., 1.,  ..., 1., 1., 1.]]])\n",
            "Ángulo asociado (training_angles[0]): tensor([0, 0, 0, 0, 0, 0, 0, 0, 0, 0, 0, 0, 0, 0, 0, 1, 0, 0, 0, 0, 0],\n",
            "       dtype=torch.int32)\n"
          ]
        },
        {
          "output_type": "display_data",
          "data": {
            "text/plain": [
              "<Figure size 1000x500 with 2 Axes>"
            ],
            "image/png": "[encoded data removed]"
          },
          "metadata": {}
        },
        {
          "output_type": "stream",
          "name": "stderr",
          "text": [
            "[codecarbon WARNING @ 07:10:25] Invalid gpu_ids format. Expected a string or a list of ints.\n",
            "[codecarbon INFO @ 07:10:25] [setup] RAM Tracking...\n",
            "[codecarbon INFO @ 07:10:25] [setup] GPU Tracking...\n",
            "[codecarbon INFO @ 07:10:25] Tracking Nvidia GPU via pynvml\n",
            "[codecarbon INFO @ 07:10:25] [setup] CPU Tracking...\n",
            "[codecarbon WARNING @ 07:10:25] No CPU tracking mode found. Falling back on CPU constant mode.\n",
            "[codecarbon WARNING @ 07:10:26] We saw that you have a Intel(R) Xeon(R) CPU @ 2.00GHz but we don't know it. Please contact us.\n",
            "[codecarbon INFO @ 07:10:26] CPU Model on constant consumption mode: Intel(R) Xeon(R) CPU @ 2.00GHz\n",
            "[codecarbon INFO @ 07:10:26] >>> Tracker's metadata:\n",
            "[codecarbon INFO @ 07:10:26]   Platform system: Linux-6.1.85+-x86_64-with-glibc2.35\n",
            "[codecarbon INFO @ 07:10:26]   Python version: 3.10.12\n",
            "[codecarbon INFO @ 07:10:26]   CodeCarbon version: 2.4.2\n",
            "[codecarbon INFO @ 07:10:26]   Available RAM : 50.994 GB\n",
            "[codecarbon INFO @ 07:10:26]   CPU count: 8\n",
            "[codecarbon INFO @ 07:10:26]   CPU model: Intel(R) Xeon(R) CPU @ 2.00GHz\n",
            "[codecarbon INFO @ 07:10:26]   GPU count: 1\n",
            "[codecarbon INFO @ 07:10:26]   GPU model: 1 x Tesla T4\n",
            "Epoch 1/50:   0%|          | 0/690 [00:00<?, ?batch/s]/usr/local/lib/python3.10/dist-packages/torch/autograd/graph.py:744: UserWarning: Plan failed with a cudnnException: CUDNN_BACKEND_EXECUTION_PLAN_DESCRIPTOR: cudnnFinalize Descriptor Failed cudnn_status: CUDNN_STATUS_NOT_SUPPORTED (Triggered internally at ../aten/src/ATen/native/cudnn/Conv_v8.cpp:919.)\n",
            "  return Variable._execution_engine.run_backward(  # Calls into the C++ engine to run the backward pass\n",
            "Epoch 1/50:  33%|███▎      | 229/690 [00:05<00:10, 42.47batch/s][codecarbon INFO @ 07:10:32] Energy consumed for RAM : 0.018476 kWh. RAM Power : 19.1226167678833 W\n",
            "[codecarbon INFO @ 07:10:32] Energy consumed for all GPUs : 0.027657 kWh. Total GPU Power : 29.892730763752247 W\n",
            "[codecarbon INFO @ 07:10:32] Energy consumed for all CPUs : 0.041078 kWh. Total CPU Power : 42.5 W\n",
            "[codecarbon INFO @ 07:10:32] 0.087211 kWh of electricity used since the beginning.\n",
            "Epoch 1/50:  92%|█████████▏| 632/690 [00:14<00:01, 41.05batch/s][codecarbon INFO @ 07:10:41] Energy consumed for RAM : 0.000080 kWh. RAM Power : 19.1226167678833 W\n",
            "[codecarbon INFO @ 07:10:41] Energy consumed for all GPUs : 0.000135 kWh. Total GPU Power : 32.40421645801554 W\n",
            "[codecarbon INFO @ 07:10:42] Energy consumed for all CPUs : 0.000177 kWh. Total CPU Power : 42.5 W\n",
            "[codecarbon INFO @ 07:10:42] 0.000392 kWh of electricity used since the beginning.\n",
            "Epoch 1/50: 100%|██████████| 690/690 [00:16<00:00, 42.05batch/s]\n",
            "Validation 1/50: 100%|██████████| 173/173 [00:01<00:00, 162.22batch/s]\n"
          ]
        },
        {
          "output_type": "stream",
          "name": "stdout",
          "text": [
            "Epoch [1/50], Train Loss: 2.9088, Train Accuracy: 0.0932, Valid Loss: 2.8718, Valid Accuracy: 0.1016\n"
          ]
        },
        {
          "output_type": "stream",
          "name": "stderr",
          "text": [
            "Epoch 2/50:  17%|█▋        | 117/690 [00:02<00:14, 39.81batch/s][codecarbon INFO @ 07:10:47] Energy consumed for RAM : 0.018555 kWh. RAM Power : 19.1226167678833 W\n",
            "[codecarbon INFO @ 07:10:47] Energy consumed for all GPUs : 0.027793 kWh. Total GPU Power : 32.66115229807702 W\n",
            "[codecarbon INFO @ 07:10:47] Energy consumed for all CPUs : 0.041255 kWh. Total CPU Power : 42.5 W\n",
            "[codecarbon INFO @ 07:10:47] 0.087604 kWh of electricity used since the beginning.\n",
            "Epoch 2/50:  74%|███████▍  | 511/690 [00:12<00:04, 42.28batch/s][codecarbon INFO @ 07:10:56] Energy consumed for RAM : 0.000159 kWh. RAM Power : 19.1226167678833 W\n",
            "Epoch 2/50:  75%|███████▍  | 516/690 [00:12<00:04, 42.34batch/s][codecarbon INFO @ 07:10:57] Energy consumed for all GPUs : 0.000270 kWh. Total GPU Power : 32.39313377883616 W\n",
            "[codecarbon INFO @ 07:10:57] Energy consumed for all CPUs : 0.000354 kWh. Total CPU Power : 42.5 W\n",
            "[codecarbon INFO @ 07:10:57] 0.000784 kWh of electricity used since the beginning.\n",
            "Epoch 2/50: 100%|██████████| 690/690 [00:16<00:00, 41.10batch/s]\n",
            "Validation 2/50: 100%|██████████| 173/173 [00:01<00:00, 160.16batch/s]\n"
          ]
        },
        {
          "output_type": "stream",
          "name": "stdout",
          "text": [
            "Epoch [2/50], Train Loss: 2.8801, Train Accuracy: 0.0964, Valid Loss: 2.8317, Valid Accuracy: 0.0997\n"
          ]
        },
        {
          "output_type": "stream",
          "name": "stderr",
          "text": [
            "\rEpoch 3/50:   0%|          | 0/690 [00:00<?, ?batch/s][codecarbon INFO @ 07:11:02] Energy consumed for RAM : 0.018635 kWh. RAM Power : 19.1226167678833 W\n",
            "[codecarbon INFO @ 07:11:02] Energy consumed for all GPUs : 0.027928 kWh. Total GPU Power : 32.39460822602027 W\n",
            "[codecarbon INFO @ 07:11:02] Energy consumed for all CPUs : 0.041432 kWh. Total CPU Power : 42.5 W\n",
            "[codecarbon INFO @ 07:11:02] 0.087995 kWh of electricity used since the beginning.\n",
            "Epoch 3/50:  58%|█████▊    | 398/690 [00:09<00:07, 38.54batch/s][codecarbon INFO @ 07:11:11] Energy consumed for RAM : 0.000239 kWh. RAM Power : 19.1226167678833 W\n",
            "[codecarbon INFO @ 07:11:11] Energy consumed for all GPUs : 0.000405 kWh. Total GPU Power : 32.42596495950576 W\n",
            "[codecarbon INFO @ 07:11:12] Energy consumed for all CPUs : 0.000531 kWh. Total CPU Power : 42.5 W\n",
            "[codecarbon INFO @ 07:11:12] 0.001175 kWh of electricity used since the beginning.\n",
            "Epoch 3/50:  89%|████████▉ | 617/690 [00:14<00:01, 42.26batch/s][codecarbon INFO @ 07:11:17] Energy consumed for RAM : 0.018715 kWh. RAM Power : 19.1226167678833 W\n",
            "[codecarbon INFO @ 07:11:17] Energy consumed for all GPUs : 0.028063 kWh. Total GPU Power : 32.32298967831041 W\n",
            "[codecarbon INFO @ 07:11:17] Energy consumed for all CPUs : 0.041609 kWh. Total CPU Power : 42.5 W\n",
            "[codecarbon INFO @ 07:11:17] 0.088387 kWh of electricity used since the beginning.\n",
            "Epoch 3/50: 100%|██████████| 690/690 [00:16<00:00, 41.42batch/s]\n",
            "Validation 3/50: 100%|██████████| 173/173 [00:01<00:00, 165.04batch/s]\n"
          ]
        },
        {
          "output_type": "stream",
          "name": "stdout",
          "text": [
            "Epoch [3/50], Train Loss: 2.8680, Train Accuracy: 0.0960, Valid Loss: 2.8265, Valid Accuracy: 0.1000\n"
          ]
        },
        {
          "output_type": "stream",
          "name": "stderr",
          "text": [
            "Epoch 4/50:  42%|████▏     | 289/690 [00:06<00:09, 41.96batch/s][codecarbon INFO @ 07:11:26] Energy consumed for RAM : 0.000319 kWh. RAM Power : 19.1226167678833 W\n",
            "[codecarbon INFO @ 07:11:27] Energy consumed for all GPUs : 0.000540 kWh. Total GPU Power : 32.45728912797847 W\n",
            "[codecarbon INFO @ 07:11:27] Energy consumed for all CPUs : 0.000708 kWh. Total CPU Power : 42.5 W\n",
            "[codecarbon INFO @ 07:11:27] 0.001567 kWh of electricity used since the beginning.\n",
            "Epoch 4/50:  74%|███████▍  | 514/690 [00:12<00:04, 42.01batch/s][codecarbon INFO @ 07:11:32] Energy consumed for RAM : 0.018794 kWh. RAM Power : 19.1226167678833 W\n",
            "[codecarbon INFO @ 07:11:32] Energy consumed for all GPUs : 0.028198 kWh. Total GPU Power : 32.51903227131293 W\n",
            "[codecarbon INFO @ 07:11:32] Energy consumed for all CPUs : 0.041786 kWh. Total CPU Power : 42.5 W\n",
            "[codecarbon INFO @ 07:11:32] 0.088779 kWh of electricity used since the beginning.\n",
            "Epoch 4/50: 100%|██████████| 690/690 [00:16<00:00, 41.90batch/s]\n",
            "Validation 4/50: 100%|██████████| 173/173 [00:01<00:00, 160.46batch/s]\n"
          ]
        },
        {
          "output_type": "stream",
          "name": "stdout",
          "text": [
            "Epoch [4/50], Train Loss: 2.8505, Train Accuracy: 0.0973, Valid Loss: 2.7016, Valid Accuracy: 0.1134\n"
          ]
        },
        {
          "output_type": "stream",
          "name": "stderr",
          "text": [
            "Epoch 5/50:  26%|██▌       | 179/690 [00:04<00:12, 42.33batch/s][codecarbon INFO @ 07:11:41] Energy consumed for RAM : 0.000398 kWh. RAM Power : 19.1226167678833 W\n",
            "[codecarbon INFO @ 07:11:42] Energy consumed for all GPUs : 0.000676 kWh. Total GPU Power : 32.71985114117884 W\n",
            "[codecarbon INFO @ 07:11:42] Energy consumed for all CPUs : 0.000885 kWh. Total CPU Power : 42.5 W\n",
            "[codecarbon INFO @ 07:11:42] 0.001960 kWh of electricity used since the beginning.\n",
            "Epoch 5/50:  59%|█████▉    | 409/690 [00:09<00:06, 42.27batch/s][codecarbon INFO @ 07:11:47] Energy consumed for RAM : 0.018874 kWh. RAM Power : 19.1226167678833 W\n",
            "[codecarbon INFO @ 07:11:47] Energy consumed for all GPUs : 0.028334 kWh. Total GPU Power : 32.50890628749332 W\n",
            "[codecarbon INFO @ 07:11:47] Energy consumed for all CPUs : 0.041963 kWh. Total CPU Power : 42.5 W\n",
            "[codecarbon INFO @ 07:11:47] 0.089171 kWh of electricity used since the beginning.\n",
            "Epoch 5/50: 100%|██████████| 690/690 [00:16<00:00, 42.04batch/s]\n",
            "Validation 5/50: 100%|██████████| 173/173 [00:01<00:00, 163.32batch/s]\n"
          ]
        },
        {
          "output_type": "stream",
          "name": "stdout",
          "text": [
            "Epoch [5/50], Train Loss: 2.8278, Train Accuracy: 0.1030, Valid Loss: 2.6747, Valid Accuracy: 0.1185\n"
          ]
        },
        {
          "output_type": "stream",
          "name": "stderr",
          "text": [
            "Epoch 6/50:  11%|█▏        | 79/690 [00:01<00:14, 43.05batch/s][codecarbon INFO @ 07:11:56] Energy consumed for RAM : 0.000478 kWh. RAM Power : 19.1226167678833 W\n",
            "[codecarbon INFO @ 07:11:57] Energy consumed for all GPUs : 0.000812 kWh. Total GPU Power : 32.58661490628864 W\n",
            "[codecarbon INFO @ 07:11:57] Energy consumed for all CPUs : 0.001062 kWh. Total CPU Power : 42.5 W\n",
            "[codecarbon INFO @ 07:11:57] 0.002352 kWh of electricity used since the beginning.\n",
            "Epoch 6/50:  44%|████▍     | 303/690 [00:07<00:09, 40.62batch/s][codecarbon INFO @ 07:12:02] Energy consumed for RAM : 0.018953 kWh. RAM Power : 19.1226167678833 W\n",
            "[codecarbon INFO @ 07:12:02] Energy consumed for all GPUs : 0.028471 kWh. Total GPU Power : 32.81389103101043 W\n",
            "[codecarbon INFO @ 07:12:02] Energy consumed for all CPUs : 0.042140 kWh. Total CPU Power : 42.5 W\n",
            "[codecarbon INFO @ 07:12:02] 0.089564 kWh of electricity used since the beginning.\n",
            "Epoch 6/50: 100%|██████████| 690/690 [00:16<00:00, 42.15batch/s]\n",
            "Validation 6/50:  39%|███▊      | 67/173 [00:00<00:00, 163.89batch/s][codecarbon INFO @ 07:12:11] Energy consumed for RAM : 0.000557 kWh. RAM Power : 19.1226167678833 W\n",
            "[codecarbon INFO @ 07:12:12] Energy consumed for all GPUs : 0.000948 kWh. Total GPU Power : 32.63735205191747 W\n",
            "[codecarbon INFO @ 07:12:12] Energy consumed for all CPUs : 0.001239 kWh. Total CPU Power : 42.5 W\n",
            "[codecarbon INFO @ 07:12:12] 0.002745 kWh of electricity used since the beginning.\n",
            "Validation 6/50: 100%|██████████| 173/173 [00:01<00:00, 161.33batch/s]\n"
          ]
        },
        {
          "output_type": "stream",
          "name": "stdout",
          "text": [
            "Epoch [6/50], Train Loss: 2.8185, Train Accuracy: 0.1050, Valid Loss: 2.7081, Valid Accuracy: 0.1241\n"
          ]
        },
        {
          "output_type": "stream",
          "name": "stderr",
          "text": [
            "Epoch 7/50:  28%|██▊       | 195/690 [00:04<00:12, 39.90batch/s][codecarbon INFO @ 07:12:17] Energy consumed for RAM : 0.019033 kWh. RAM Power : 19.1226167678833 W\n",
            "[codecarbon INFO @ 07:12:17] Energy consumed for all GPUs : 0.028607 kWh. Total GPU Power : 32.72293415879873 W\n",
            "[codecarbon INFO @ 07:12:17] Energy consumed for all CPUs : 0.042317 kWh. Total CPU Power : 42.5 W\n",
            "[codecarbon INFO @ 07:12:17] 0.089957 kWh of electricity used since the beginning.\n",
            "Epoch 7/50:  87%|████████▋ | 602/690 [00:14<00:02, 41.19batch/s][codecarbon INFO @ 07:12:26] Energy consumed for RAM : 0.000637 kWh. RAM Power : 19.1226167678833 W\n",
            "[codecarbon INFO @ 07:12:27] Energy consumed for all GPUs : 0.001084 kWh. Total GPU Power : 32.71811711231905 W\n",
            "[codecarbon INFO @ 07:12:27] Energy consumed for all CPUs : 0.001416 kWh. Total CPU Power : 42.5 W\n",
            "[codecarbon INFO @ 07:12:27] 0.003138 kWh of electricity used since the beginning.\n",
            "Epoch 7/50: 100%|██████████| 690/690 [00:16<00:00, 41.87batch/s]\n",
            "Validation 7/50: 100%|██████████| 173/173 [00:01<00:00, 166.05batch/s]\n"
          ]
        },
        {
          "output_type": "stream",
          "name": "stdout",
          "text": [
            "Epoch [7/50], Train Loss: 2.8245, Train Accuracy: 0.1041, Valid Loss: 2.6577, Valid Accuracy: 0.1178\n"
          ]
        },
        {
          "output_type": "stream",
          "name": "stderr",
          "text": [
            "Epoch 8/50:  14%|█▍        | 100/690 [00:02<00:13, 44.31batch/s][codecarbon INFO @ 07:12:32] Energy consumed for RAM : 0.019113 kWh. RAM Power : 19.1226167678833 W\n",
            "[codecarbon INFO @ 07:12:32] Energy consumed for all GPUs : 0.028744 kWh. Total GPU Power : 32.86143053369872 W\n",
            "[codecarbon INFO @ 07:12:32] Energy consumed for all CPUs : 0.042494 kWh. Total CPU Power : 42.5 W\n",
            "[codecarbon INFO @ 07:12:32] 0.090351 kWh of electricity used since the beginning.\n",
            "Epoch 8/50:  74%|███████▍  | 510/690 [00:11<00:04, 43.67batch/s][codecarbon INFO @ 07:12:41] Energy consumed for RAM : 0.000717 kWh. RAM Power : 19.1226167678833 W\n",
            "[codecarbon INFO @ 07:12:42] Energy consumed for all GPUs : 0.001222 kWh. Total GPU Power : 32.95780543562309 W\n",
            "[codecarbon INFO @ 07:12:42] Energy consumed for all CPUs : 0.001594 kWh. Total CPU Power : 42.5 W\n",
            "[codecarbon INFO @ 07:12:42] 0.003532 kWh of electricity used since the beginning.\n",
            "Epoch 8/50: 100%|██████████| 690/690 [00:15<00:00, 43.21batch/s]\n",
            "Validation 8/50: 100%|██████████| 173/173 [00:01<00:00, 163.10batch/s]\n"
          ]
        },
        {
          "output_type": "stream",
          "name": "stdout",
          "text": [
            "Epoch [8/50], Train Loss: 2.8147, Train Accuracy: 0.1060, Valid Loss: 2.6850, Valid Accuracy: 0.1315\n"
          ]
        },
        {
          "output_type": "stream",
          "name": "stderr",
          "text": [
            "Epoch 9/50:   1%|▏         | 9/690 [00:00<00:16, 42.37batch/s][codecarbon INFO @ 07:12:47] Energy consumed for RAM : 0.019192 kWh. RAM Power : 19.1226167678833 W\n",
            "[codecarbon INFO @ 07:12:47] Energy consumed for all GPUs : 0.028881 kWh. Total GPU Power : 32.95117086379862 W\n",
            "[codecarbon INFO @ 07:12:47] Energy consumed for all CPUs : 0.042671 kWh. Total CPU Power : 42.5 W\n",
            "[codecarbon INFO @ 07:12:47] 0.090745 kWh of electricity used since the beginning.\n",
            "Epoch 9/50:  61%|██████▏   | 424/690 [00:09<00:06, 43.82batch/s][codecarbon INFO @ 07:12:56] Energy consumed for RAM : 0.000796 kWh. RAM Power : 19.1226167678833 W\n",
            "[codecarbon INFO @ 07:12:57] Energy consumed for all GPUs : 0.001360 kWh. Total GPU Power : 33.24757676935183 W\n",
            "[codecarbon INFO @ 07:12:57] Energy consumed for all CPUs : 0.001771 kWh. Total CPU Power : 42.5 W\n",
            "[codecarbon INFO @ 07:12:57] 0.003927 kWh of electricity used since the beginning.\n",
            "Epoch 9/50:  95%|█████████▍| 654/690 [00:15<00:00, 40.90batch/s][codecarbon INFO @ 07:13:02] Energy consumed for RAM : 0.019272 kWh. RAM Power : 19.1226167678833 W\n",
            "[codecarbon INFO @ 07:13:02] Energy consumed for all GPUs : 0.029018 kWh. Total GPU Power : 32.955653861885075 W\n",
            "[codecarbon INFO @ 07:13:02] Energy consumed for all CPUs : 0.042848 kWh. Total CPU Power : 42.5 W\n",
            "[codecarbon INFO @ 07:13:02] 0.091139 kWh of electricity used since the beginning.\n",
            "Epoch 9/50: 100%|██████████| 690/690 [00:16<00:00, 42.91batch/s]\n",
            "Validation 9/50: 100%|██████████| 173/173 [00:01<00:00, 163.75batch/s]\n"
          ]
        },
        {
          "output_type": "stream",
          "name": "stdout",
          "text": [
            "Epoch [9/50], Train Loss: 2.8096, Train Accuracy: 0.1054, Valid Loss: 2.7432, Valid Accuracy: 0.1243\n"
          ]
        },
        {
          "output_type": "stream",
          "name": "stderr",
          "text": [
            "Epoch 10/50:  48%|████▊     | 329/690 [00:07<00:08, 43.44batch/s][codecarbon INFO @ 07:13:11] Energy consumed for RAM : 0.000876 kWh. RAM Power : 19.1226167678833 W\n",
            "[codecarbon INFO @ 07:13:12] Energy consumed for all GPUs : 0.001498 kWh. Total GPU Power : 33.049305629159065 W\n",
            "[codecarbon INFO @ 07:13:12] Energy consumed for all CPUs : 0.001948 kWh. Total CPU Power : 42.5 W\n",
            "[codecarbon INFO @ 07:13:12] 0.004321 kWh of electricity used since the beginning.\n",
            "Epoch 10/50:  81%|████████  | 559/690 [00:13<00:03, 41.85batch/s][codecarbon INFO @ 07:13:17] Energy consumed for RAM : 0.019352 kWh. RAM Power : 19.1226167678833 W\n",
            "[codecarbon INFO @ 07:13:17] Energy consumed for all GPUs : 0.029157 kWh. Total GPU Power : 33.290809048611735 W\n",
            "[codecarbon INFO @ 07:13:17] Energy consumed for all CPUs : 0.043026 kWh. Total CPU Power : 42.5 W\n",
            "[codecarbon INFO @ 07:13:17] 0.091534 kWh of electricity used since the beginning.\n",
            "Epoch 10/50: 100%|██████████| 690/690 [00:16<00:00, 42.69batch/s]\n",
            "Validation 10/50: 100%|██████████| 173/173 [00:01<00:00, 169.69batch/s]\n"
          ]
        },
        {
          "output_type": "stream",
          "name": "stdout",
          "text": [
            "Epoch [10/50], Train Loss: 2.8226, Train Accuracy: 0.1037, Valid Loss: 2.7213, Valid Accuracy: 0.1243\n"
          ]
        },
        {
          "output_type": "stream",
          "name": "stderr",
          "text": [
            "Epoch 11/50:  34%|███▍      | 235/690 [00:05<00:10, 43.07batch/s][codecarbon INFO @ 07:13:26] Energy consumed for RAM : 0.000956 kWh. RAM Power : 19.1226167678833 W\n",
            "[codecarbon INFO @ 07:13:27] Energy consumed for all GPUs : 0.001635 kWh. Total GPU Power : 33.0467226132451 W\n",
            "[codecarbon INFO @ 07:13:27] Energy consumed for all CPUs : 0.002125 kWh. Total CPU Power : 42.5 W\n",
            "[codecarbon INFO @ 07:13:27] 0.004716 kWh of electricity used since the beginning.\n",
            "Epoch 11/50:  67%|██████▋   | 465/690 [00:10<00:05, 42.74batch/s][codecarbon INFO @ 07:13:32] Energy consumed for RAM : 0.019431 kWh. RAM Power : 19.1226167678833 W\n",
            "[codecarbon INFO @ 07:13:32] Energy consumed for all GPUs : 0.029295 kWh. Total GPU Power : 33.04665838719351 W\n",
            "[codecarbon INFO @ 07:13:32] Energy consumed for all CPUs : 0.043203 kWh. Total CPU Power : 42.5 W\n",
            "[codecarbon INFO @ 07:13:32] 0.091928 kWh of electricity used since the beginning.\n",
            "Epoch 11/50: 100%|██████████| 690/690 [00:16<00:00, 42.93batch/s]\n",
            "Validation 11/50: 100%|██████████| 173/173 [00:01<00:00, 165.80batch/s]\n"
          ]
        },
        {
          "output_type": "stream",
          "name": "stdout",
          "text": [
            "Epoch [11/50], Train Loss: 2.8020, Train Accuracy: 0.1058, Valid Loss: 2.6750, Valid Accuracy: 0.1238\n"
          ]
        },
        {
          "output_type": "stream",
          "name": "stderr",
          "text": [
            "Epoch 12/50:  20%|██        | 140/690 [00:03<00:12, 43.64batch/s][codecarbon INFO @ 07:13:41] Energy consumed for RAM : 0.001035 kWh. RAM Power : 19.1226167678833 W\n",
            "[codecarbon INFO @ 07:13:42] Energy consumed for all GPUs : 0.001773 kWh. Total GPU Power : 33.111728967827176 W\n",
            "[codecarbon INFO @ 07:13:42] Energy consumed for all CPUs : 0.002302 kWh. Total CPU Power : 42.5 W\n",
            "[codecarbon INFO @ 07:13:42] 0.005110 kWh of electricity used since the beginning.\n",
            "Epoch 12/50:  54%|█████▍    | 375/690 [00:08<00:07, 43.74batch/s][codecarbon INFO @ 07:13:47] Energy consumed for RAM : 0.019511 kWh. RAM Power : 19.1226167678833 W\n",
            "[codecarbon INFO @ 07:13:47] Energy consumed for all GPUs : 0.029432 kWh. Total GPU Power : 33.11295596503219 W\n",
            "[codecarbon INFO @ 07:13:47] Energy consumed for all CPUs : 0.043380 kWh. Total CPU Power : 42.5 W\n",
            "[codecarbon INFO @ 07:13:47] 0.092323 kWh of electricity used since the beginning.\n",
            "Epoch 12/50: 100%|██████████| 690/690 [00:16<00:00, 42.68batch/s]\n",
            "Validation 12/50: 100%|██████████| 173/173 [00:01<00:00, 164.32batch/s]\n"
          ]
        },
        {
          "output_type": "stream",
          "name": "stdout",
          "text": [
            "Epoch [12/50], Train Loss: 2.8005, Train Accuracy: 0.1064, Valid Loss: 2.6709, Valid Accuracy: 0.1419\n"
          ]
        },
        {
          "output_type": "stream",
          "name": "stderr",
          "text": [
            "Epoch 13/50:   7%|▋         | 45/690 [00:01<00:15, 42.94batch/s][codecarbon INFO @ 07:13:57] Energy consumed for RAM : 0.001115 kWh. RAM Power : 19.1226167678833 W\n",
            "[codecarbon INFO @ 07:13:57] Energy consumed for all GPUs : 0.001911 kWh. Total GPU Power : 33.052081188264644 W\n",
            "[codecarbon INFO @ 07:13:57] Energy consumed for all CPUs : 0.002479 kWh. Total CPU Power : 42.5 W\n",
            "[codecarbon INFO @ 07:13:57] 0.005505 kWh of electricity used since the beginning.\n",
            "Epoch 13/50:  41%|████      | 280/690 [00:06<00:09, 43.79batch/s][codecarbon INFO @ 07:14:02] Energy consumed for RAM : 0.019591 kWh. RAM Power : 19.1226167678833 W\n",
            "[codecarbon INFO @ 07:14:02] Energy consumed for all GPUs : 0.029570 kWh. Total GPU Power : 33.02335564819251 W\n",
            "[codecarbon INFO @ 07:14:02] Energy consumed for all CPUs : 0.043557 kWh. Total CPU Power : 42.5 W\n",
            "[codecarbon INFO @ 07:14:02] 0.092717 kWh of electricity used since the beginning.\n",
            "Epoch 13/50: 100%|██████████| 690/690 [00:16<00:00, 42.90batch/s]\n",
            "Validation 13/50:   0%|          | 0/173 [00:00<?, ?batch/s][codecarbon INFO @ 07:14:12] Energy consumed for RAM : 0.001195 kWh. RAM Power : 19.1226167678833 W\n",
            "[codecarbon INFO @ 07:14:12] Energy consumed for all GPUs : 0.002049 kWh. Total GPU Power : 33.13671314906172 W\n",
            "[codecarbon INFO @ 07:14:12] Energy consumed for all CPUs : 0.002656 kWh. Total CPU Power : 42.5 W\n",
            "[codecarbon INFO @ 07:14:12] 0.005899 kWh of electricity used since the beginning.\n",
            "Validation 13/50: 100%|██████████| 173/173 [00:01<00:00, 167.95batch/s]\n"
          ]
        },
        {
          "output_type": "stream",
          "name": "stdout",
          "text": [
            "Epoch [13/50], Train Loss: 2.8090, Train Accuracy: 0.1063, Valid Loss: 2.6882, Valid Accuracy: 0.1248\n"
          ]
        },
        {
          "output_type": "stream",
          "name": "stderr",
          "text": [
            "Epoch 14/50:  27%|██▋       | 185/690 [00:04<00:12, 40.13batch/s][codecarbon INFO @ 07:14:17] Energy consumed for RAM : 0.019670 kWh. RAM Power : 19.1226167678833 W\n",
            "[codecarbon INFO @ 07:14:17] Energy consumed for all GPUs : 0.029707 kWh. Total GPU Power : 32.995280278486725 W\n",
            "[codecarbon INFO @ 07:14:17] Energy consumed for all CPUs : 0.043734 kWh. Total CPU Power : 42.5 W\n",
            "[codecarbon INFO @ 07:14:17] 0.093111 kWh of electricity used since the beginning.\n",
            "Epoch 14/50:  86%|████████▌ | 595/690 [00:13<00:02, 43.18batch/s][codecarbon INFO @ 07:14:27] Energy consumed for RAM : 0.001274 kWh. RAM Power : 19.1226167678833 W\n",
            "[codecarbon INFO @ 07:14:27] Energy consumed for all GPUs : 0.002186 kWh. Total GPU Power : 32.962070862343325 W\n",
            "[codecarbon INFO @ 07:14:27] Energy consumed for all CPUs : 0.002833 kWh. Total CPU Power : 42.5 W\n",
            "[codecarbon INFO @ 07:14:27] 0.006293 kWh of electricity used since the beginning.\n",
            "Epoch 14/50: 100%|██████████| 690/690 [00:16<00:00, 42.48batch/s]\n",
            "Validation 14/50: 100%|██████████| 173/173 [00:01<00:00, 160.73batch/s]\n"
          ]
        },
        {
          "output_type": "stream",
          "name": "stdout",
          "text": [
            "Epoch [14/50], Train Loss: 2.7962, Train Accuracy: 0.1085, Valid Loss: 2.6391, Valid Accuracy: 0.1308\n"
          ]
        },
        {
          "output_type": "stream",
          "name": "stderr",
          "text": [
            "Epoch 15/50:  12%|█▏        | 85/690 [00:02<00:14, 41.53batch/s][codecarbon INFO @ 07:14:32] Energy consumed for RAM : 0.019750 kWh. RAM Power : 19.1226167678833 W\n",
            "[codecarbon INFO @ 07:14:32] Energy consumed for all GPUs : 0.029845 kWh. Total GPU Power : 33.11516518445511 W\n",
            "[codecarbon INFO @ 07:14:32] Energy consumed for all CPUs : 0.043911 kWh. Total CPU Power : 42.5 W\n",
            "[codecarbon INFO @ 07:14:32] 0.093506 kWh of electricity used since the beginning.\n",
            "Epoch 15/50:  71%|███████   | 490/690 [00:11<00:04, 41.17batch/s][codecarbon INFO @ 07:14:42] Energy consumed for RAM : 0.001354 kWh. RAM Power : 19.1226167678833 W\n",
            "[codecarbon INFO @ 07:14:42] Energy consumed for all GPUs : 0.002323 kWh. Total GPU Power : 32.87713238304006 W\n",
            "[codecarbon INFO @ 07:14:42] Energy consumed for all CPUs : 0.003010 kWh. Total CPU Power : 42.5 W\n",
            "[codecarbon INFO @ 07:14:42] 0.006687 kWh of electricity used since the beginning.\n",
            "Epoch 15/50: 100%|██████████| 690/690 [00:16<00:00, 42.53batch/s]\n",
            "Validation 15/50:  80%|███████▉  | 138/173 [00:00<00:00, 167.28batch/s][codecarbon INFO @ 07:14:47] Energy consumed for RAM : 0.019829 kWh. RAM Power : 19.1226167678833 W\n",
            "[codecarbon INFO @ 07:14:47] Energy consumed for all GPUs : 0.029983 kWh. Total GPU Power : 32.93476051954088 W\n",
            "[codecarbon INFO @ 07:14:47] Energy consumed for all CPUs : 0.044088 kWh. Total CPU Power : 42.5 W\n",
            "[codecarbon INFO @ 07:14:47] 0.093900 kWh of electricity used since the beginning.\n",
            "Validation 15/50: 100%|██████████| 173/173 [00:01<00:00, 165.29batch/s]\n"
          ]
        },
        {
          "output_type": "stream",
          "name": "stdout",
          "text": [
            "Epoch [15/50], Train Loss: 2.8053, Train Accuracy: 0.1067, Valid Loss: 2.7330, Valid Accuracy: 0.1187\n"
          ]
        },
        {
          "output_type": "stream",
          "name": "stderr",
          "text": [
            "Epoch 16/50:  57%|█████▋    | 395/690 [00:09<00:07, 42.10batch/s][codecarbon INFO @ 07:14:57] Energy consumed for RAM : 0.001433 kWh. RAM Power : 19.1226167678833 W\n",
            "[codecarbon INFO @ 07:14:57] Energy consumed for all GPUs : 0.002461 kWh. Total GPU Power : 32.978149714564296 W\n",
            "[codecarbon INFO @ 07:14:57] Energy consumed for all CPUs : 0.003187 kWh. Total CPU Power : 42.5 W\n",
            "[codecarbon INFO @ 07:14:57] 0.007081 kWh of electricity used since the beginning.\n",
            "Epoch 16/50:  91%|█████████ | 625/690 [00:14<00:01, 43.15batch/s][codecarbon INFO @ 07:15:02] Energy consumed for RAM : 0.019909 kWh. RAM Power : 19.1226167678833 W\n",
            "[codecarbon INFO @ 07:15:02] Energy consumed for all GPUs : 0.030120 kWh. Total GPU Power : 32.9117388685767 W\n",
            "[codecarbon INFO @ 07:15:02] Energy consumed for all CPUs : 0.044265 kWh. Total CPU Power : 42.5 W\n",
            "[codecarbon INFO @ 07:15:02] 0.094294 kWh of electricity used since the beginning.\n",
            "Epoch 16/50: 100%|██████████| 690/690 [00:16<00:00, 42.30batch/s]\n",
            "Validation 16/50: 100%|██████████| 173/173 [00:01<00:00, 163.56batch/s]\n"
          ]
        },
        {
          "output_type": "stream",
          "name": "stdout",
          "text": [
            "Epoch [16/50], Train Loss: 2.8030, Train Accuracy: 0.1040, Valid Loss: 2.6157, Valid Accuracy: 0.1392\n"
          ]
        },
        {
          "output_type": "stream",
          "name": "stderr",
          "text": [
            "Epoch 17/50:  42%|████▏     | 293/690 [00:06<00:09, 43.13batch/s][codecarbon INFO @ 07:15:12] Energy consumed for RAM : 0.001513 kWh. RAM Power : 19.1226167678833 W\n",
            "Epoch 17/50:  43%|████▎     | 298/690 [00:07<00:09, 43.14batch/s][codecarbon INFO @ 07:15:12] Energy consumed for all GPUs : 0.002598 kWh. Total GPU Power : 33.06063717866203 W\n",
            "[codecarbon INFO @ 07:15:12] Energy consumed for all CPUs : 0.003364 kWh. Total CPU Power : 42.5 W\n",
            "[codecarbon INFO @ 07:15:12] 0.007475 kWh of electricity used since the beginning.\n",
            "Epoch 17/50:  76%|███████▌  | 523/690 [00:12<00:03, 42.21batch/s][codecarbon INFO @ 07:15:17] Energy consumed for RAM : 0.019989 kWh. RAM Power : 19.1226167678833 W\n",
            "[codecarbon INFO @ 07:15:17] Energy consumed for all GPUs : 0.030257 kWh. Total GPU Power : 33.077738935108314 W\n",
            "[codecarbon INFO @ 07:15:17] Energy consumed for all CPUs : 0.044442 kWh. Total CPU Power : 42.5 W\n",
            "[codecarbon INFO @ 07:15:17] 0.094688 kWh of electricity used since the beginning.\n",
            "Epoch 17/50: 100%|██████████| 690/690 [00:16<00:00, 42.22batch/s]\n",
            "Validation 17/50: 100%|██████████| 173/173 [00:01<00:00, 164.24batch/s]\n"
          ]
        },
        {
          "output_type": "stream",
          "name": "stdout",
          "text": [
            "Epoch [17/50], Train Loss: 2.7936, Train Accuracy: 0.1051, Valid Loss: 2.6266, Valid Accuracy: 0.1410\n"
          ]
        },
        {
          "output_type": "stream",
          "name": "stderr",
          "text": [
            "Epoch 18/50:  28%|██▊       | 195/690 [00:04<00:11, 42.64batch/s][codecarbon INFO @ 07:15:27] Energy consumed for RAM : 0.001593 kWh. RAM Power : 19.1226167678833 W\n",
            "[codecarbon INFO @ 07:15:27] Energy consumed for all GPUs : 0.002736 kWh. Total GPU Power : 33.1452185272591 W\n",
            "[codecarbon INFO @ 07:15:27] Energy consumed for all CPUs : 0.003541 kWh. Total CPU Power : 42.5 W\n",
            "[codecarbon INFO @ 07:15:27] 0.007870 kWh of electricity used since the beginning.\n",
            "Epoch 18/50:  61%|██████    | 420/690 [00:09<00:06, 42.49batch/s][codecarbon INFO @ 07:15:32] Energy consumed for RAM : 0.020068 kWh. RAM Power : 19.1226167678833 W\n",
            "[codecarbon INFO @ 07:15:32] Energy consumed for all GPUs : 0.030395 kWh. Total GPU Power : 33.10476918330122 W\n",
            "[codecarbon INFO @ 07:15:32] Energy consumed for all CPUs : 0.044619 kWh. Total CPU Power : 42.5 W\n",
            "[codecarbon INFO @ 07:15:32] 0.095083 kWh of electricity used since the beginning.\n",
            "Epoch 18/50: 100%|██████████| 690/690 [00:16<00:00, 42.29batch/s]\n",
            "Validation 18/50: 100%|██████████| 173/173 [00:01<00:00, 160.93batch/s]\n"
          ]
        },
        {
          "output_type": "stream",
          "name": "stdout",
          "text": [
            "Epoch [18/50], Train Loss: 2.8012, Train Accuracy: 0.1076, Valid Loss: 2.6544, Valid Accuracy: 0.1308\n"
          ]
        },
        {
          "output_type": "stream",
          "name": "stderr",
          "text": [
            "Epoch 19/50:  13%|█▎        | 90/690 [00:02<00:14, 40.89batch/s][codecarbon INFO @ 07:15:42] Energy consumed for RAM : 0.001672 kWh. RAM Power : 19.1226167678833 W\n",
            "[codecarbon INFO @ 07:15:42] Energy consumed for all GPUs : 0.002875 kWh. Total GPU Power : 33.25865356748616 W\n",
            "[codecarbon INFO @ 07:15:42] Energy consumed for all CPUs : 0.003718 kWh. Total CPU Power : 42.5 W\n",
            "[codecarbon INFO @ 07:15:42] 0.008265 kWh of electricity used since the beginning.\n",
            "Epoch 19/50:  45%|████▍     | 310/690 [00:07<00:09, 40.59batch/s][codecarbon INFO @ 07:15:47] Energy consumed for RAM : 0.020148 kWh. RAM Power : 19.1226167678833 W\n",
            "[codecarbon INFO @ 07:15:47] Energy consumed for all GPUs : 0.030533 kWh. Total GPU Power : 33.023655504531455 W\n",
            "[codecarbon INFO @ 07:15:47] Energy consumed for all CPUs : 0.044796 kWh. Total CPU Power : 42.5 W\n",
            "[codecarbon INFO @ 07:15:47] 0.095477 kWh of electricity used since the beginning.\n",
            "Epoch 19/50: 100%|██████████| 690/690 [00:16<00:00, 41.71batch/s]\n",
            "Validation 19/50:  59%|█████▉    | 102/173 [00:00<00:00, 164.75batch/s][codecarbon INFO @ 07:15:57] Energy consumed for RAM : 0.001752 kWh. RAM Power : 19.1226167678833 W\n",
            "[codecarbon INFO @ 07:15:57] Energy consumed for all GPUs : 0.003012 kWh. Total GPU Power : 32.911382746425836 W\n",
            "[codecarbon INFO @ 07:15:57] Energy consumed for all CPUs : 0.003895 kWh. Total CPU Power : 42.5 W\n",
            "[codecarbon INFO @ 07:15:57] 0.008659 kWh of electricity used since the beginning.\n",
            "Validation 19/50: 100%|██████████| 173/173 [00:01<00:00, 163.43batch/s]\n"
          ]
        },
        {
          "output_type": "stream",
          "name": "stdout",
          "text": [
            "Epoch [19/50], Train Loss: 2.7986, Train Accuracy: 0.1055, Valid Loss: 2.6511, Valid Accuracy: 0.1241\n"
          ]
        },
        {
          "output_type": "stream",
          "name": "stderr",
          "text": [
            "Epoch 20/50:  30%|███       | 210/690 [00:04<00:11, 42.95batch/s][codecarbon INFO @ 07:16:02] Energy consumed for RAM : 0.020228 kWh. RAM Power : 19.1226167678833 W\n",
            "[codecarbon INFO @ 07:16:02] Energy consumed for all GPUs : 0.030671 kWh. Total GPU Power : 33.184960081498026 W\n",
            "[codecarbon INFO @ 07:16:02] Energy consumed for all CPUs : 0.044973 kWh. Total CPU Power : 42.5 W\n",
            "[codecarbon INFO @ 07:16:02] 0.095872 kWh of electricity used since the beginning.\n",
            "Epoch 20/50:  90%|████████▉ | 620/690 [00:14<00:01, 43.05batch/s][codecarbon INFO @ 07:16:12] Energy consumed for RAM : 0.001832 kWh. RAM Power : 19.1226167678833 W\n",
            "[codecarbon INFO @ 07:16:12] Energy consumed for all GPUs : 0.003149 kWh. Total GPU Power : 32.90739702459559 W\n",
            "[codecarbon INFO @ 07:16:12] Energy consumed for all CPUs : 0.004072 kWh. Total CPU Power : 42.5 W\n",
            "[codecarbon INFO @ 07:16:12] 0.009053 kWh of electricity used since the beginning.\n",
            "Epoch 20/50: 100%|██████████| 690/690 [00:16<00:00, 42.62batch/s]\n",
            "Validation 20/50: 100%|██████████| 173/173 [00:01<00:00, 169.77batch/s]\n"
          ]
        },
        {
          "output_type": "stream",
          "name": "stdout",
          "text": [
            "Epoch [20/50], Train Loss: 2.7987, Train Accuracy: 0.1098, Valid Loss: 2.6601, Valid Accuracy: 0.1290\n"
          ]
        },
        {
          "output_type": "stream",
          "name": "stderr",
          "text": [
            "Epoch 21/50:  17%|█▋        | 120/690 [00:02<00:13, 43.77batch/s][codecarbon INFO @ 07:16:17] Energy consumed for RAM : 0.020307 kWh. RAM Power : 19.1226167678833 W\n",
            "[codecarbon INFO @ 07:16:17] Energy consumed for all GPUs : 0.030808 kWh. Total GPU Power : 32.96508678077541 W\n",
            "[codecarbon INFO @ 07:16:17] Energy consumed for all CPUs : 0.045150 kWh. Total CPU Power : 42.5 W\n",
            "[codecarbon INFO @ 07:16:17] 0.096266 kWh of electricity used since the beginning.\n",
            "Epoch 21/50:  76%|███████▌  | 524/690 [00:12<00:03, 43.78batch/s][codecarbon INFO @ 07:16:27] Energy consumed for RAM : 0.001911 kWh. RAM Power : 19.1226167678833 W\n",
            "[codecarbon INFO @ 07:16:27] Energy consumed for all GPUs : 0.003286 kWh. Total GPU Power : 32.96511409482903 W\n",
            "[codecarbon INFO @ 07:16:27] Energy consumed for all CPUs : 0.004249 kWh. Total CPU Power : 42.5 W\n",
            "[codecarbon INFO @ 07:16:27] 0.009447 kWh of electricity used since the beginning.\n",
            "Epoch 21/50: 100%|██████████| 690/690 [00:16<00:00, 42.60batch/s]\n",
            "Validation 21/50: 100%|██████████| 173/173 [00:01<00:00, 165.53batch/s]\n"
          ]
        },
        {
          "output_type": "stream",
          "name": "stdout",
          "text": [
            "Epoch [21/50], Train Loss: 2.8001, Train Accuracy: 0.1088, Valid Loss: 2.6597, Valid Accuracy: 0.1296\n"
          ]
        },
        {
          "output_type": "stream",
          "name": "stderr",
          "text": [
            "Epoch 22/50:   3%|▎         | 20/690 [00:00<00:16, 41.42batch/s][codecarbon INFO @ 07:16:32] Energy consumed for RAM : 0.020387 kWh. RAM Power : 19.1226167678833 W\n",
            "[codecarbon INFO @ 07:16:32] Energy consumed for all GPUs : 0.030946 kWh. Total GPU Power : 32.961431796482266 W\n",
            "[codecarbon INFO @ 07:16:32] Energy consumed for all CPUs : 0.045327 kWh. Total CPU Power : 42.5 W\n",
            "[codecarbon INFO @ 07:16:32] 0.096660 kWh of electricity used since the beginning.\n",
            "Epoch 22/50:  62%|██████▏   | 430/690 [00:10<00:05, 43.75batch/s][codecarbon INFO @ 07:16:42] Energy consumed for RAM : 0.001991 kWh. RAM Power : 19.1226167678833 W\n",
            "[codecarbon INFO @ 07:16:42] Energy consumed for all GPUs : 0.003424 kWh. Total GPU Power : 33.04452239889127 W\n",
            "[codecarbon INFO @ 07:16:42] Energy consumed for all CPUs : 0.004426 kWh. Total CPU Power : 42.5 W\n",
            "[codecarbon INFO @ 07:16:42] 0.009841 kWh of electricity used since the beginning.\n",
            "Epoch 22/50:  96%|█████████▋| 665/690 [00:15<00:00, 43.70batch/s][codecarbon INFO @ 07:16:47] Energy consumed for RAM : 0.020467 kWh. RAM Power : 19.1226167678833 W\n",
            "[codecarbon INFO @ 07:16:47] Energy consumed for all GPUs : 0.031083 kWh. Total GPU Power : 32.99939346341881 W\n",
            "[codecarbon INFO @ 07:16:47] Energy consumed for all CPUs : 0.045504 kWh. Total CPU Power : 42.5 W\n",
            "[codecarbon INFO @ 07:16:47] 0.097054 kWh of electricity used since the beginning.\n",
            "Epoch 22/50: 100%|██████████| 690/690 [00:16<00:00, 42.93batch/s]\n",
            "Validation 22/50: 100%|██████████| 173/173 [00:01<00:00, 167.10batch/s]\n"
          ]
        },
        {
          "output_type": "stream",
          "name": "stdout",
          "text": [
            "Epoch [22/50], Train Loss: 2.7851, Train Accuracy: 0.1120, Valid Loss: 2.6273, Valid Accuracy: 0.1395\n"
          ]
        },
        {
          "output_type": "stream",
          "name": "stderr",
          "text": [
            "Epoch 23/50:  50%|█████     | 345/690 [00:07<00:08, 42.23batch/s][codecarbon INFO @ 07:16:57] Energy consumed for RAM : 0.002070 kWh. RAM Power : 19.1226167678833 W\n",
            "[codecarbon INFO @ 07:16:57] Energy consumed for all GPUs : 0.003563 kWh. Total GPU Power : 33.37325190058282 W\n",
            "[codecarbon INFO @ 07:16:57] Energy consumed for all CPUs : 0.004603 kWh. Total CPU Power : 42.5 W\n",
            "[codecarbon INFO @ 07:16:57] 0.010237 kWh of electricity used since the beginning.\n",
            "Epoch 23/50:  85%|████████▍ | 585/690 [00:13<00:02, 44.10batch/s][codecarbon INFO @ 07:17:02] Energy consumed for RAM : 0.020546 kWh. RAM Power : 19.1226167678833 W\n",
            "[codecarbon INFO @ 07:17:02] Energy consumed for all GPUs : 0.031221 kWh. Total GPU Power : 33.2116112539633 W\n",
            "[codecarbon INFO @ 07:17:02] Energy consumed for all CPUs : 0.045681 kWh. Total CPU Power : 42.5 W\n",
            "[codecarbon INFO @ 07:17:02] 0.097449 kWh of electricity used since the beginning.\n",
            "Epoch 23/50: 100%|██████████| 690/690 [00:15<00:00, 43.83batch/s]\n",
            "Validation 23/50: 100%|██████████| 173/173 [00:01<00:00, 167.26batch/s]\n"
          ]
        },
        {
          "output_type": "stream",
          "name": "stdout",
          "text": [
            "Epoch [23/50], Train Loss: 2.7910, Train Accuracy: 0.1071, Valid Loss: 2.6350, Valid Accuracy: 0.1395\n"
          ]
        },
        {
          "output_type": "stream",
          "name": "stderr",
          "text": [
            "Epoch 24/50:  39%|███▉      | 269/690 [00:06<00:09, 44.45batch/s][codecarbon INFO @ 07:17:12] Energy consumed for RAM : 0.002150 kWh. RAM Power : 19.1226167678833 W\n",
            "[codecarbon INFO @ 07:17:12] Energy consumed for all GPUs : 0.003701 kWh. Total GPU Power : 33.240771709869875 W\n",
            "[codecarbon INFO @ 07:17:12] Energy consumed for all CPUs : 0.004781 kWh. Total CPU Power : 42.5 W\n",
            "[codecarbon INFO @ 07:17:12] 0.010632 kWh of electricity used since the beginning.\n",
            "Epoch 24/50:  73%|███████▎  | 504/690 [00:11<00:04, 44.64batch/s][codecarbon INFO @ 07:17:17] Energy consumed for RAM : 0.020626 kWh. RAM Power : 19.1226167678833 W\n",
            "[codecarbon INFO @ 07:17:17] Energy consumed for all GPUs : 0.031361 kWh. Total GPU Power : 33.44785644661484 W\n",
            "[codecarbon INFO @ 07:17:17] Energy consumed for all CPUs : 0.045858 kWh. Total CPU Power : 42.5 W\n",
            "[codecarbon INFO @ 07:17:17] 0.097845 kWh of electricity used since the beginning.\n",
            "Epoch 24/50: 100%|██████████| 690/690 [00:15<00:00, 43.53batch/s]\n",
            "Validation 24/50: 100%|██████████| 173/173 [00:01<00:00, 168.46batch/s]\n"
          ]
        },
        {
          "output_type": "stream",
          "name": "stdout",
          "text": [
            "Epoch [24/50], Train Loss: 2.7851, Train Accuracy: 0.1076, Valid Loss: 2.6929, Valid Accuracy: 0.1096\n"
          ]
        },
        {
          "output_type": "stream",
          "name": "stderr",
          "text": [
            "Epoch 25/50:  28%|██▊       | 190/690 [00:04<00:11, 44.52batch/s][codecarbon INFO @ 07:17:27] Energy consumed for RAM : 0.002230 kWh. RAM Power : 19.1226167678833 W\n",
            "[codecarbon INFO @ 07:17:27] Energy consumed for all GPUs : 0.003840 kWh. Total GPU Power : 33.299439986540676 W\n",
            "[codecarbon INFO @ 07:17:27] Energy consumed for all CPUs : 0.004958 kWh. Total CPU Power : 42.5 W\n",
            "[codecarbon INFO @ 07:17:27] 0.011027 kWh of electricity used since the beginning.\n",
            "Epoch 25/50:  62%|██████▏   | 425/690 [00:09<00:06, 43.25batch/s][codecarbon INFO @ 07:17:32] Energy consumed for RAM : 0.020705 kWh. RAM Power : 19.1226167678833 W\n",
            "[codecarbon INFO @ 07:17:32] Energy consumed for all GPUs : 0.031500 kWh. Total GPU Power : 33.35153659469599 W\n",
            "[codecarbon INFO @ 07:17:32] Energy consumed for all CPUs : 0.046035 kWh. Total CPU Power : 42.5 W\n",
            "[codecarbon INFO @ 07:17:32] 0.098240 kWh of electricity used since the beginning.\n",
            "Epoch 25/50: 100%|██████████| 690/690 [00:15<00:00, 44.17batch/s]\n",
            "Validation 25/50: 100%|██████████| 173/173 [00:01<00:00, 166.03batch/s]\n"
          ]
        },
        {
          "output_type": "stream",
          "name": "stdout",
          "text": [
            "Epoch [25/50], Train Loss: 2.7930, Train Accuracy: 0.1069, Valid Loss: 2.6509, Valid Accuracy: 0.1350\n"
          ]
        },
        {
          "output_type": "stream",
          "name": "stderr",
          "text": [
            "Epoch 26/50:  17%|█▋        | 115/690 [00:02<00:13, 43.90batch/s][codecarbon INFO @ 07:17:42] Energy consumed for RAM : 0.002309 kWh. RAM Power : 19.1226167678833 W\n",
            "[codecarbon INFO @ 07:17:42] Energy consumed for all GPUs : 0.003979 kWh. Total GPU Power : 33.41201243724607 W\n",
            "[codecarbon INFO @ 07:17:42] Energy consumed for all CPUs : 0.005135 kWh. Total CPU Power : 42.5 W\n",
            "[codecarbon INFO @ 07:17:42] 0.011423 kWh of electricity used since the beginning.\n",
            "Epoch 26/50:  51%|█████     | 350/690 [00:08<00:07, 44.22batch/s][codecarbon INFO @ 07:17:47] Energy consumed for RAM : 0.020785 kWh. RAM Power : 19.1226167678833 W\n",
            "[codecarbon INFO @ 07:17:47] Energy consumed for all GPUs : 0.031639 kWh. Total GPU Power : 33.44871477605412 W\n",
            "[codecarbon INFO @ 07:17:47] Energy consumed for all CPUs : 0.046212 kWh. Total CPU Power : 42.5 W\n",
            "[codecarbon INFO @ 07:17:47] 0.098636 kWh of electricity used since the beginning.\n",
            "Epoch 26/50: 100%|██████████| 690/690 [00:15<00:00, 43.78batch/s]\n",
            "Validation 26/50: 100%|██████████| 173/173 [00:01<00:00, 166.31batch/s]\n",
            "[codecarbon INFO @ 07:17:56] Energy consumed for RAM : 0.002385 kWh. RAM Power : 19.1226167678833 W\n",
            "[codecarbon INFO @ 07:17:56] Energy consumed for all GPUs : 0.004111 kWh. Total GPU Power : 33.396142948971 W\n",
            "[codecarbon INFO @ 07:17:56] Energy consumed for all CPUs : 0.005302 kWh. Total CPU Power : 42.5 W\n",
            "[codecarbon INFO @ 07:17:56] 0.011797 kWh of electricity used since the beginning.\n"
          ]
        },
        {
          "output_type": "stream",
          "name": "stdout",
          "text": [
            "Epoch [26/50], Train Loss: 2.8049, Train Accuracy: 0.1096, Valid Loss: 2.6923, Valid Accuracy: 0.1366\n",
            "Early stopping en la época 26\n",
            "Mejor pérdida de validación: 2.6157\n"
          ]
        },
        {
          "output_type": "display_data",
          "data": {
            "text/plain": [
              "<Figure size 1000x500 with 1 Axes>"
            ],
            "image/png": "[encoded data removed]"
          },
          "metadata": {}
        },
        {
          "output_type": "display_data",
          "data": {
            "text/plain": [
              "<Figure size 1000x500 with 1 Axes>"
            ],
            "image/png": "[encoded data removed]"
          },
          "metadata": {}
        }
      ]
    }
  ]
}